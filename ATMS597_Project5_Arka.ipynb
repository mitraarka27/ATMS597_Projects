{
  "nbformat": 4,
  "nbformat_minor": 0,
  "metadata": {
    "colab": {
      "provenance": [],
      "collapsed_sections": [],
      "include_colab_link": true
    },
    "kernelspec": {
      "name": "python3",
      "display_name": "Python 3"
    }
  },
  "cells": [
    {
      "cell_type": "markdown",
      "metadata": {
        "id": "view-in-github",
        "colab_type": "text"
      },
      "source": [
        "<a href=\"https://colab.research.google.com/github/mitraarka27/ATMS597_Projects/blob/main/ATMS597_Project5_Arka.ipynb\" target=\"_parent\"><img src=\"https://colab.research.google.com/assets/colab-badge.svg\" alt=\"Open In Colab\"/></a>"
      ]
    },
    {
      "cell_type": "code",
      "metadata": {
        "id": "YPnkLMuxV7tw"
      },
      "source": [
        "from google.colab import drive\n",
        "drive.mount('/content/drive')\n",
        "\n",
        "!mkdir '/content/drive/My Drive/project5_data/'"
      ],
      "execution_count": null,
      "outputs": []
    },
    {
      "cell_type": "code",
      "metadata": {
        "id": "E_0_y5o_-w_c"
      },
      "source": [
        "!wget ftp://ftp.ncdc.noaa.gov/pub/data/asos-fivemin/6401-{2000..2019}/64010KSTC{2000..2019}{01..12}.dat\n",
        "!cp *.dat '/content/drive/My Drive/project5_data/'"
      ],
      "execution_count": null,
      "outputs": []
    },
    {
      "cell_type": "code",
      "metadata": {
        "id": "CDBIrpvR9sY0"
      },
      "source": [
        "import glob\n",
        "import pandas as pd\n",
        "import numpy as np\n",
        "import datetime\n",
        "\n",
        "\n",
        "for yr in range(2000,2020):\n",
        "  print('Year = ', yr)\n",
        "  files = sorted(glob.glob('/content/drive/My Drive/project5_data/64010KSTC'+str(yr)+'*.dat'))\n",
        "\n",
        "  for ifile in range(0,len(files)):\n",
        "      print(ifile)\n",
        "      f = open(files[ifile], 'rb')\n",
        "      df = pd.DataFrame([str(f.readline()).replace('\\\\n\\'','').replace('b\\'','').strip().split(' ')])\n",
        "      for line in f:\n",
        "          data = pd.DataFrame([str(f.readline()).replace('\\\\n\\'','').replace('b\\'','').strip().split(' ')])\n",
        "          df = pd.concat([df, data], ignore_index=True)  \n",
        "      # df = pd.DataFrame([line.strip().split(' ') for line in open(files[ifile], 'r')])\n",
        "      del df[3]\n",
        "      n_cols = len(df.columns)\n",
        "      columns = ['StnNo', 'ContainsDate', 'Time', \"Interval\", 'Sttn', 'UTC', 'Type', 'Wind', \"Weath/Obstr\", 'SkyCond', 'Temp',\n",
        "                    'n_days', 'MSLP', 'RelHum', ' ', 'WndDir/Spd', 'WindMagnetic', 'RMK', 'AO2']\n",
        "      out_name = files[ifile].replace('/content/drive/My Drive/project5_data/','/content/drive/My Drive/project5_data/reviewed')\n",
        "      out = open(out_name, 'w')\n",
        "      out.write('date'+','+'timeofday'+','+'Wind'+','+'Wind_Direction'+','+'Wind_Speed'+','+'Gusts'+','+'Variable_Winds'+','+'Temperature'+','+ \n",
        "                        'Dewpoint'+','+'rhum'+','+'hourly'+','+'sixhourly'+','+'dayprecip'+','+'solid'+','+'liquid'+'\\n')\n",
        "      # new_df = pd.DataFrame(columns=new_df_columns)\n",
        "      cols_already = len(columns)\n",
        "      cols_new = []\n",
        "      cols_new = [np.append(cols_new,'X') for i in range(n_cols-cols_already)]\n",
        "      columns = np.append(columns, cols_new)\n",
        "      df.columns = columns\n",
        "\n",
        "      for i in range(0, np.shape(df)[0]): #np.shape(df)[0]\n",
        "          try:\n",
        "            day = df['ContainsDate'][i][-8:] \n",
        "            time = df['Time'][i]\n",
        "            date = datetime.datetime.strptime(day+' '+time, '%m/%d/%y %H:%M:%S')\n",
        "            (h, m, s) = time.split(':')\n",
        "            timeofday = float(int(h) * 3600 + int(m) * 60 + int(s))/(3600*24)\n",
        "            # print(date)\n",
        "            # print(timeofday)\n",
        "            Gusts = 0\n",
        "            Wind = 0\n",
        "            Variable_Winds = 0\n",
        "            try:\n",
        "              if \"KT\" in df['Wind'][i]:\n",
        "                  Wind = 1\n",
        "                  if df['Wind'][i][0:3] == 'VRB':\n",
        "                      Variable_Winds = 1\n",
        "                  else:\n",
        "                      Variable_Winds = 0\n",
        "                      Wind_Direction = int(df['Wind'][i][0:3]) # in tens of degrees from true north\n",
        "                  Wind_Speed = int(df['Wind'][i][3:5]) # in whole knots (two digits)\n",
        "                  if df['Wind'][i][5] == 'G':\n",
        "                      Gusts = 1\n",
        "                      Gust_Speed = int(df['Wind'][i][6:8]) # speed in whole knots (two digits)\n",
        "              else:\n",
        "                  Wind = 0\n",
        "            except:\n",
        "              Wind = 0\n",
        "              Variable_Winds = 0\n",
        "              Wind_Direction = np.nan\n",
        "              Gusts=0\n",
        "              Gust_Speed=0\n",
        "\n",
        "            Temp = 0\n",
        "            try:\n",
        "              if \"/\" in df['Temp'][i]:\n",
        "                  Temp = 1\n",
        "                  Temperature = df['Temp'][i].split('/')[0]\n",
        "                  if 'M' in Temperature:\n",
        "                    Temperature = int(Temperature[1:3])\n",
        "                  else:\n",
        "                    Temperature = int(Temperature)\n",
        "                  Dewpoint = df['Temp'][i].split('/')[1]\n",
        "                  if 'M' in Dewpoint:\n",
        "                    Dewpoint = int(Dewpoint[1:3])\n",
        "                  else:\n",
        "                    Dewpoint = int(Dewpoint) \n",
        "              else:\n",
        "                  Temp = 0  \n",
        "              try:\n",
        "                rhum = int(df['RelHum'][i])\n",
        "              except:\n",
        "                rhum = np.nan\n",
        "              if (rhum>100):\n",
        "                rhum = np.nan\n",
        "            except:\n",
        "              Temp=0\n",
        "              Temperature=np.nan\n",
        "              Dewpoint=np.nan\n",
        "              rhum=np.nan\n",
        "\n",
        "            for n in range(cols_already, n_cols): #n_cols\n",
        "              # for j in range(len(df.iloc[:,n])):\n",
        "                element = df.iloc[i,n]\n",
        "                try:\n",
        "                  if element[0]=='P' or element[0]=='6' or element[0]=='7':\n",
        "                    if element[1]=='0':\n",
        "                      if element[0]=='P':\n",
        "                        hourly = float(element[1:])/100.\n",
        "                      elif element[0]=='6':\n",
        "                        sixhourly = float(element[1:])/100.\n",
        "                      elif element[0]=='7':\n",
        "                        dayprecip = float(element[1:])/100.\n",
        "                  else:\n",
        "                    hourly = np.nan\n",
        "                    sixhourly = np.nan\n",
        "                    dayprecip = np.nan\n",
        "                except:\n",
        "                    hourly = np.nan\n",
        "                    sixhourly = np.nan\n",
        "                    dayprecip = np.nan\n",
        "\n",
        "            frozen_flags = ['SN', 'SG', 'IC', 'PL', 'GR', 'GS']\n",
        "            liquid_flags = ['FZ', 'RA']\n",
        "            try:\n",
        "                if np.logical_or(any(flags in df['Weath/Obstr'][i] for flags in frozen_flags), any(flags in df['Temp'][i] for flags in frozen_flags)):\n",
        "                  solid = 1\n",
        "                elif np.logical_or(any(flags in df['Weath/Obstr'][i] for flags in liquid_flags), any(flags in df['Temp'][i] for flags in liquid_flags)):\n",
        "                  liquid = 1\n",
        "                else:\n",
        "                  solid = 0\n",
        "                  liquid = 0\n",
        "            except:\n",
        "                  solid = np.nan\n",
        "                  liquid = np.nan\n",
        "\n",
        "            # print('Wind, Wind_Direction, Wind_Speed, Gusts, Variable_Winds, Temp, Temperature, Dewpoint, rhum, hourly, sixhourly, daily:') \n",
        "            # print(str(date)+','+str(timeofday)+','+str(Wind)+','+str(Wind_Direction)+','+str(Wind_Speed)+','+str(Gusts)+','+str(Variable_Winds)\n",
        "            # +','+str(Temperature)+','+str(Dewpoint)+','+str(rhum)+','+str(hourly)+','+str(sixhourly)+','+str(dayprecip)+','+str(solid)+','+str(liquid)+'\\n')\n",
        "            out.write(str(date)+','+str(timeofday)+','+str(Wind)+','+str(Wind_Direction)+','+str(Wind_Speed)+','+str(Gusts)+','+str(Variable_Winds)\n",
        "            +','+str(Temperature)+','+str(Dewpoint)+','+str(rhum)+','+str(hourly)+','+str(sixhourly)+','+str(dayprecip)+','+str(solid)+','+str(liquid)+'\\n')\n",
        "          except:\n",
        "            continue\n",
        "      out.close()"
      ],
      "execution_count": null,
      "outputs": []
    },
    {
      "cell_type": "markdown",
      "metadata": {
        "id": "89X_P9wn4fUo"
      },
      "source": [
        "<<-----Placeholder stuff below. Actual code above --------------------->>"
      ]
    },
    {
      "cell_type": "code",
      "metadata": {
        "id": "vdcp0ZSU_6Vm"
      },
      "source": [
        "infile = pd.read_csv(out_name, header=0)\n",
        "infile"
      ],
      "execution_count": null,
      "outputs": []
    },
    {
      "cell_type": "code",
      "metadata": {
        "id": "b2r6N3AbkitJ"
      },
      "source": [
        "f = open(files[ifile], 'rb')\n",
        "df = pd.DataFrame([str(f.readline()).replace('\\\\n\\'','').replace('b\\'','').strip().split(' ')])\n",
        "for line in f:\n",
        "        # print(line.decode(errors='ignore'))\n",
        "        data = pd.DataFrame([str(f.readline()).replace('\\\\n\\'','').replace('b\\'','').strip().split(' ')])\n",
        "        df = pd.concat([df, data])\n",
        "df"
      ],
      "execution_count": null,
      "outputs": []
    },
    {
      "cell_type": "code",
      "metadata": {
        "id": "djmRcIkuSiHt"
      },
      "source": [
        "f = open(files[ifile], 'rb')\n",
        "ph = str(f.readline()).replace('\\\\n\\'','').replace('b\\'','').strip().split(' ')\n",
        "# ph[len(ph)-1].replace('\\\\n','')\n",
        "ph"
      ],
      "execution_count": null,
      "outputs": []
    },
    {
      "cell_type": "code",
      "metadata": {
        "id": "pgwXNK_BSmzv"
      },
      "source": [
        "import pandas as pd\n",
        "import glob\n",
        "files = sorted(glob.glob('/content/drive/My Drive/project5_data/reviewed*.dat'))\n",
        "print(files[5])\n",
        "A=pd.read_csv(files[5])\n",
        "A"
      ],
      "execution_count": null,
      "outputs": []
    },
    {
      "cell_type": "code",
      "metadata": {
        "id": "anrDUgio-7Ck"
      },
      "source": [
        "import numpy as np\n",
        "yr=2000\n",
        "files = sorted(glob.glob('/content/drive/My Drive/project5_data/64010KSTC'+str(yr)+'*.dat'))\n",
        "\n",
        "for ifile in range(0,1):\n",
        "    print(files[ifile])\n",
        "    f = open(files[ifile], 'rb')\n",
        "    df = pd.DataFrame([str(f.readline()).replace('\\\\n\\'','').replace('b\\'','').strip().split(' ')])\n",
        "    for line in f:\n",
        "        data = pd.DataFrame([str(f.readline()).replace('\\\\n\\'','').replace('b\\'','').strip().split(' ')])\n",
        "        df = pd.concat([df, data], ignore_index=True)  \n",
        "    # df = pd.DataFrame([line.strip().split(' ') for line in open(files[ifile], 'r')])\n",
        "    del df[3]\n",
        "    n_cols = len(df.columns)\n",
        "    columns = ['StnNo', 'ContainsDate', 'Time', \"Interval\", 'Sttn', 'UTC', 'Type', 'Wind', \"Weath/Obstr\", 'SkyCond', 'Temp',\n",
        "                  'n_days', 'MSLP', 'RelHum', ' ', 'WndDir/Spd', 'WindMagnetic', 'RMK', 'AO2']\n",
        "    # out_name = files[ifile].replace('/content/drive/My Drive/project5_data/','/content/drive/My Drive/project5_data/reviewed')\n",
        "    # out = open(out_name, 'w')\n",
        "    # out.write('date'+','+'timeofday'+','+'Wind'+','+'Wind_Direction'+','+'Wind_Speed'+','+'Gusts'+','+'Variable_Winds'+','+'Temperature'+','+ \n",
        "    #                   'Dewpoint'+','+'rhum'+','+'hourly'+','+'sixhourly'+','+'dayprecip'+','+'solid'+','+'liquid'+'\\n')\n",
        "    # new_df = pd.DataFrame(columns=new_df_columns)\n",
        "    cols_already = len(columns)\n",
        "    cols_new = []\n",
        "    cols_new = [np.append(cols_new,'X') for i in range(n_cols-cols_already)]\n",
        "    columns = np.append(columns, cols_new)\n",
        "    df.columns = columns\n",
        "\n",
        "df"
      ],
      "execution_count": null,
      "outputs": []
    },
    {
      "cell_type": "code",
      "metadata": {
        "id": "8BcOyQnUCK4B"
      },
      "source": [],
      "execution_count": null,
      "outputs": []
    }
  ]
}